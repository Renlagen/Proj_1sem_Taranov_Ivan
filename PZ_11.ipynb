{
  "nbformat": 4,
  "nbformat_minor": 0,
  "metadata": {
    "colab": {
      "name": "Untitled0.ipynb",
      "provenance": [],
      "authorship_tag": "ABX9TyOUgSwn7SvjnOKw7uGTA8Lv",
      "include_colab_link": true
    },
    "kernelspec": {
      "name": "python3",
      "display_name": "Python 3"
    },
    "language_info": {
      "name": "python"
    }
  },
  "cells": [
    {
      "cell_type": "markdown",
      "metadata": {
        "id": "view-in-github",
        "colab_type": "text"
      },
      "source": [
        "<a href=\"https://colab.research.google.com/github/Renlagen/Proj_1sem_Taranov_Ivan/blob/main/PZ_11.ipynb\" target=\"_parent\"><img src=\"https://colab.research.google.com/assets/colab-badge.svg\" alt=\"Open In Colab\"/></a>"
      ]
    },
    {
      "cell_type": "markdown",
      "source": [
        ""
      ],
      "metadata": {
        "id": "S0xjHsYsbugt"
      }
    },
    {
      "cell_type": "markdown",
      "source": [
        "Практическая работа №3"
      ],
      "metadata": {
        "id": "HrmT3EpWcc0X"
      }
    },
    {
      "cell_type": "code",
      "source": [
        "N = int(input(\"Введите трехзначное число: \"))\n",
        "\n",
        "# Проверка\n",
        "while True:\n",
        "    if 99 < N < 1000:\n",
        "        break\n",
        "    else:\n",
        "        print('Ошибка')\n",
        "        K = (input('Введите трехзначное число:'))\n",
        "\n",
        "d2 = int(N/100)\n",
        "d1 = int((N-d2*100)/10)\n",
        "d0 = N % 10\n",
        "\n",
        "if d2 < d1 < d0:\n",
        "    print(\"Результат: True\")\n",
        "else:\n",
        "    print('Результат: False')"
      ],
      "metadata": {
        "colab": {
          "base_uri": "https://localhost:8080/"
        },
        "id": "rD0_Io9ub3aA",
        "outputId": "a76db5da-e93a-4bbc-e7af-1f55a8da3a76"
      },
      "execution_count": 3,
      "outputs": [
        {
          "output_type": "stream",
          "name": "stdout",
          "text": [
            "Введите трехзначное число: 345\n",
            "Результат: True\n"
          ]
        }
      ]
    },
    {
      "cell_type": "markdown",
      "source": [
        "Практическая работа №4"
      ],
      "metadata": {
        "id": "UnHp_Xb6cmmr"
      }
    },
    {
      "cell_type": "code",
      "source": [
        "import math\n",
        "x = float(input('Введите число x: '))\n",
        "# Проверка исключений\n",
        "while type(x) != float:\n",
        "    try:\n",
        "        x = float(x)\n",
        "    except ValueError:\n",
        "        print(\"Введите снова!\")\n",
        "        x = input(\"Введите вещественное число: \")\n",
        "while abs(x) >= 1:\n",
        "    x = input(\"Введите число меньше единицы по модулю: \")\n",
        "    while type(x) != float:\n",
        "        try:\n",
        "            x = float(x)\n",
        "        except ValueError:\n",
        "            print(\"Введите снова!\")\n",
        "            x = input(\"Введите вещественное число: \")\n",
        "\n",
        "n = input(\"Введите целое число n: \")\n",
        "# Проверка исключений\n",
        "while type(n) != int:\n",
        "    try:\n",
        "        n = int(n)\n",
        "    except ValueError:\n",
        "        print(\"Введите снова!\")\n",
        "        n = input(\"Введите целое число: \")\n",
        "while n <= 0:\n",
        "    n = input(\"Введите положительное число: \")\n",
        "    while type(n) != int:\n",
        "        try:\n",
        "            n = int(n)\n",
        "        except ValueError:\n",
        "            print(\"Введите снова!\")\n",
        "            n = input(\"Введите целое число: \")\n",
        "\n",
        "d1 = 1\n",
        "R = 0\n",
        "while d1 < int(n):\n",
        "    d2 = (-1) ** d1\n",
        "    d3 = abs(x) ** (2 * d1 + 1) / (2 * d1 + 1)\n",
        "    d4 = d2 * d3\n",
        "    R += d4\n",
        "    d1 += 1\n",
        "print(\"\\nЗначение выражения равно:\", R)\n",
        "print(\"Приближенное значение функции arctg в точке x равно:\", math.atan(abs(x)))"
      ],
      "metadata": {
        "id": "sG-ANfR7b3Lr"
      },
      "execution_count": null,
      "outputs": []
    },
    {
      "cell_type": "markdown",
      "source": [
        "Практическая работа №5"
      ],
      "metadata": {
        "id": "-FIoukYEcpGy"
      }
    },
    {
      "cell_type": "code",
      "source": [
        "def function_sum(a, b):\n",
        "    sum = 0\n",
        "    while a <= b:\n",
        "        sum = sum + a\n",
        "        a = a + 1\n",
        "    return sum\n",
        "\n",
        "\n",
        "a = float(input('Введите первое число: '))\n",
        "b = float(input('Введите последнее число: '))\n",
        "s = function_sum(a, b)\n",
        "print('Сумма ряда чисел: ', s)"
      ],
      "metadata": {
        "id": "LPEl1LjxcYX8"
      },
      "execution_count": null,
      "outputs": []
    }
  ]
}